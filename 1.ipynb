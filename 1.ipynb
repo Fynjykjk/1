{
 "cells": [
  {
   "cell_type": "code",
   "execution_count": 18,
   "metadata": {},
   "outputs": [
    {
     "name": "stdout",
     "output_type": "stream",
     "text": [
      "женщина\n",
      "женщина\n",
      "женщина\n",
      "женщина\n",
      "женщина\n"
     ]
    }
   ],
   "source": [
    "import random\n",
    "import numpy as np\n",
    "for i in range(5):\n",
    "    def S(x, w):\n",
    "        return np.dot(x, w)\n",
    "    x1=random.randint(100,200)\n",
    "    x2=random.randint(50,100)\n",
    "    x=np.array([x1,x2])\n",
    "    w=np.array([2,1])\n",
    "    def f(S):\n",
    "        return 1 if S >= 430 else 0\n",
    "    Y = f(S(x, w)) # выход нейрона\n",
    "    if Y == 1:\n",
    "        print('мужчина')\n",
    "    else:\n",
    "        print('женщина')\n"
   ]
  }
 ],
 "metadata": {
  "kernelspec": {
   "display_name": ".test",
   "language": "python",
   "name": "python3"
  },
  "language_info": {
   "codemirror_mode": {
    "name": "ipython",
    "version": 3
   },
   "file_extension": ".py",
   "mimetype": "text/x-python",
   "name": "python",
   "nbconvert_exporter": "python",
   "pygments_lexer": "ipython3",
   "version": "3.10.2"
  },
  "orig_nbformat": 4
 },
 "nbformat": 4,
 "nbformat_minor": 2
}
